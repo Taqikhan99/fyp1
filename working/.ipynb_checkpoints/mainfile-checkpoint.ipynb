{
 "cells": [
  {
   "cell_type": "code",
   "execution_count": 1,
   "id": "5882f7eb-45a7-4dff-837f-fdf022be238e",
   "metadata": {},
   "outputs": [],
   "source": [
    "import cv2"
   ]
  },
  {
   "cell_type": "code",
   "execution_count": 2,
   "id": "5294de60-84a6-4e04-94d4-7d06663fb2d6",
   "metadata": {},
   "outputs": [],
   "source": [
    "# generate dataset\n",
    "def generateDataset(img, userid,img_id):\n",
    "    cv2.imwrite(\"data/user.\"+str(userid)+\".\"+str(img_id)+\".jpg\",img)"
   ]
  },
  {
   "cell_type": "code",
   "execution_count": 3,
   "id": "736cc23b-dff7-4686-bd63-66445e607f0b",
   "metadata": {},
   "outputs": [],
   "source": [
    "# draw boundary\n",
    "def drawBoundary(img,classifier,scaleFactor,minNeighbour,color,txt):\n",
    "#     convert to gray\n",
    "    grayImg=cv2.cvtColor(img,cv2.COLOR_BGR2GRAY)\n",
    "#     detect feature in image\n",
    "    features=classifier.detectMultiScale(grayImg,scaleFactor,minNeighbour)\n",
    "    coordinates=[]\n",
    "    for (x,y,w,h) in features:\n",
    "#         draw rectangle\n",
    "        cv2.rectangle(img,(x,y),(x+w,y+h),color,2)\n",
    "        #label rectangle\n",
    "        cv2.putText(img,txt,(x+3,y-3),cv2.FONT_HERSHEY_PLAIN,0.9,color,1,cv2.LINE_AA)\n",
    "        \n",
    "        coordinates=[x,y,w,h]\n",
    "    return coordinates,img\n",
    "\n",
    "def detectFace(img,faceClassifier,img_id):\n",
    "    \n",
    "    coordinates= drawBoundary(img,faceClassifier,1.05,5,(105,250,10),'My Face')\n",
    "    if len(coordinates)==4:\n",
    "        roi_img=img[coordinates[1]:coordinates[1]+coordinates[3],coordinates[0]:coordinates[0]+coordinates[2]]\n",
    "        \n",
    "        user_id=1\n",
    "        generateDataset(roi_img,user_id,img_id)\n",
    "    return img\n",
    "    "
   ]
  },
  {
   "cell_type": "code",
   "execution_count": 4,
   "id": "bbae93cb-6d26-4afe-b9ad-552f5a58fb58",
   "metadata": {},
   "outputs": [],
   "source": [
    "\n",
    "# main code area\n",
    "\n",
    "faceCascade= cv2.CascadeClassifier(\"haarcascade_frontalface_default.xml\")\n",
    "\n",
    "video_capture=cv2.VideoCapture(0);\n",
    "video_capture.set(10,150)\n",
    "\n",
    "img_id=0\n",
    "while True:\n",
    "    _,img=video_capture.read()\n",
    "    img=detectFace(img,faceCascade,img_id)\n",
    "    cv2.imshow(\"Face detection\",img)\n",
    "    \n",
    "    img_id+=1\n",
    "    if cv2.waitKey(1) & 0xFF == ord('z'):\n",
    "        break\n",
    "# release webcam\n",
    "video_capture.release()\n",
    "cv2.destroyAllWindows()"
   ]
  },
  {
   "cell_type": "code",
   "execution_count": null,
   "id": "ffe64a63-c28b-44bb-b19c-9979176b4523",
   "metadata": {},
   "outputs": [],
   "source": []
  }
 ],
 "metadata": {
  "kernelspec": {
   "display_name": "Python 3 (ipykernel)",
   "language": "python",
   "name": "python3"
  },
  "language_info": {
   "codemirror_mode": {
    "name": "ipython",
    "version": 3
   },
   "file_extension": ".py",
   "mimetype": "text/x-python",
   "name": "python",
   "nbconvert_exporter": "python",
   "pygments_lexer": "ipython3",
   "version": "3.8.9"
  }
 },
 "nbformat": 4,
 "nbformat_minor": 5
}
