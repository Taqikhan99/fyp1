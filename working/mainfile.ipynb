{
 "cells": [
  {
   "cell_type": "code",
   "execution_count": 1,
   "id": "5882f7eb-45a7-4dff-837f-fdf022be238e",
   "metadata": {},
   "outputs": [],
   "source": [
    "import cv2\n",
    "import os\n",
    "from pathlib import Path\n",
    "import pyodbc"
   ]
  },
  {
   "cell_type": "code",
   "execution_count": 13,
   "id": "8d29f2de-aaf5-4492-9325-ea24ab579953",
   "metadata": {},
   "outputs": [
    {
     "name": "stdout",
     "output_type": "stream",
     "text": [
      "[(1, 'Taqi', 'data/user_1'), (2, 'Ammad', 'data/user_2'), (3, 'unknown', 'data/user_3')]\n",
      "4\n"
     ]
    }
   ],
   "source": [
    "# creating database connection\n",
    "connection = pyodbc.connect('DRIVER={SQL Server};SERVER=TAQILAPTOP\\SQLEXPRESS2019;DATABASE=TaqiComputers_DB;Trusted_Connection=yes;')\n",
    "\n",
    "# creating cursor to execute commands\n",
    "cursor=connection.cursor()\n",
    "cursor.execute(\"Select * from tbPerson\")\n",
    "personData= cursor.fetchall()\n",
    "\n",
    "try:\n",
    "    print(personData)\n",
    "    personIds=[]\n",
    "    personNames=[]\n",
    "\n",
    "    for row in range(len(personData)):\n",
    "        \n",
    "        personIds.append( personData[row][0])\n",
    "        personNames.append( personData[row][1])\n",
    "    print(personIds[-1]+1)\n",
    "except:\n",
    "    print(\"No data found\")"
   ]
  },
  {
   "cell_type": "code",
   "execution_count": 8,
   "id": "5294de60-84a6-4e04-94d4-7d06663fb2d6",
   "metadata": {},
   "outputs": [],
   "source": [
    "# generate dataset\n",
    "\n",
    "def generateDataset(img, userid,img_id):\n",
    "\n",
    "    # creating a folder for a user\n",
    "    Path(\"data/user_{}\".format(userid)).mkdir(parents=True,exist_ok=True)\n",
    "\n",
    "    # convert to gray and resize before saving\n",
    "    gray=cv2.cvtColor(img,cv2.COLOR_BGR2GRAY)\n",
    "    gray=cv2.resize(gray,(100,100))\n",
    "\n",
    "    # writing images in the user folder\n",
    "    savingPath=\"data/user_\"+str(userid)+\"/user_\"+str(userid)+\".\"+str(img_id)+\".jpg\"\n",
    "    cv2.imwrite(savingPath,gray)\n",
    "    print(\"Images recorded successfully!\")"
   ]
  },
  {
   "cell_type": "code",
   "execution_count": 11,
   "id": "736cc23b-dff7-4686-bd63-66445e607f0b",
   "metadata": {},
   "outputs": [],
   "source": [
    "# draw boundary\n",
    "def drawBoundary(img,classifier,scaleFactor,minNeighbour,color,txt):\n",
    "#     convert to gray\n",
    "    grayImg=cv2.cvtColor(img,cv2.COLOR_BGR2GRAY)\n",
    "#     detect feature in image\n",
    "    features=classifier.detectMultiScale(grayImg,scaleFactor,minNeighbour)\n",
    "    coordinates=[]\n",
    "    for (x,y,w,h) in features:\n",
    "#         draw rectangle\n",
    "        cv2.rectangle(img,(x,y),(x+w,y+h),color,2)\n",
    "\n",
    "        #label rectangle\n",
    "        cv2.putText(img,txt,(x+3,y-3),cv2.FONT_HERSHEY_PLAIN,0.9,color,1,cv2.LINE_AA)\n",
    "        \n",
    "        coordinates=[x,y,w,h]\n",
    "    return coordinates,img\n",
    "\n",
    "\n",
    "\n",
    "# method to detect face\n",
    "def detectFace(img,faceClassifier,img_id):\n",
    "    # Rimg,match=recocgnize(img,clf,faceCascade,1.1,6,(185,200,120))\n",
    "    \n",
    "    # if (not match):\n",
    "    coordinates,img= drawBoundary(img,faceClassifier,1.1,6,(105,250,10),'My Face')\n",
    "#     print(len(coordinates))\n",
    "    if (len(coordinates)==4):\n",
    "        roi_img=img[coordinates[1]:coordinates[1]+coordinates[3],coordinates[0]:coordinates[0]+coordinates[2]]\n",
    "        print(roi_img)\n",
    "        user_id=personIds[-1]+1\n",
    "        generateDataset(roi_img,user_id,img_id)\n",
    "#         inserting record in database\n",
    "        try:\n",
    "\n",
    "            cursor.execute('''\n",
    "                    INSERT INTO tbPerson (personId, pName, imagesPath)\n",
    "                    VALUES\n",
    "                    (?,'unknown',?)\n",
    "                    \n",
    "                    ''',user_id,'data/user_'+str(user_id))\n",
    "            cursor.commit()\n",
    "            print('Saved to database')\n",
    "        except:\n",
    "            print('Already saved for this user')\n",
    "            \n",
    "    return img\n",
    "    "
   ]
  },
  {
   "cell_type": "code",
   "execution_count": null,
   "id": "bbae93cb-6d26-4afe-b9ad-552f5a58fb58",
   "metadata": {},
   "outputs": [],
   "source": [
    "# main code area\n",
    "faceCascade= cv2.CascadeClassifier(\"haarcascade_frontalface_default.xml\")\n",
    "\n",
    "video_capture=cv2.VideoCapture(0);\n",
    "video_capture.set(10,150)\n",
    "\n",
    "img_id=0\n",
    "while True:\n",
    "    _,img=video_capture.read()\n",
    "    img=detectFace(img,faceCascade,img_id)\n",
    "    cv2.imshow(\"Face detection\",img)\n",
    "    \n",
    "    img_id+=1\n",
    "    if cv2.waitKey(1) & 0xFF == ord('z'):\n",
    "        break\n",
    "# release webcam\n",
    "video_capture.release()\n",
    "cv2.destroyAllWindows()"
   ]
  },
  {
   "cell_type": "code",
   "execution_count": null,
   "id": "14bdfbb7-e6e5-4e5d-ad79-1b7ca3d8a192",
   "metadata": {},
   "outputs": [],
   "source": []
  },
  {
   "cell_type": "code",
   "execution_count": null,
   "id": "ffe64a63-c28b-44bb-b19c-9979176b4523",
   "metadata": {},
   "outputs": [],
   "source": []
  }
 ],
 "metadata": {
  "kernelspec": {
   "display_name": "Python 3 (ipykernel)",
   "language": "python",
   "name": "python3"
  },
  "language_info": {
   "codemirror_mode": {
    "name": "ipython",
    "version": 3
   },
   "file_extension": ".py",
   "mimetype": "text/x-python",
   "name": "python",
   "nbconvert_exporter": "python",
   "pygments_lexer": "ipython3",
   "version": "3.8.9"
  }
 },
 "nbformat": 4,
 "nbformat_minor": 5
}
